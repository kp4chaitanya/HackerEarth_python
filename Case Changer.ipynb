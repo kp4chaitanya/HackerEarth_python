{
 "cells": [
  {
   "cell_type": "code",
   "execution_count": 12,
   "id": "09b67e5a",
   "metadata": {},
   "outputs": [],
   "source": [
    "def changeCase(S):\n",
    "    l=list(S)\n",
    "    b=[]\n",
    "\n",
    "    for i in l:\n",
    "        if i.islower():\n",
    "            b.append(i.upper())\n",
    "        else:\n",
    "            b.append(i.lower())\n",
    "        \n",
    "    c = ''.join([str(elem) for elem in b])\n",
    "    #print(type(c))\n",
    "    print(c)"
   ]
  },
  {
   "cell_type": "code",
   "execution_count": 13,
   "id": "918c8b19",
   "metadata": {},
   "outputs": [
    {
     "name": "stdout",
     "output_type": "stream",
     "text": [
      "abcDEF\n",
      "<class 'str'>\n",
      "ABCdef\n"
     ]
    }
   ],
   "source": [
    "S=input()      \n",
    "out=changeCase(S)"
   ]
  }
 ],
 "metadata": {
  "kernelspec": {
   "display_name": "Python 3 (ipykernel)",
   "language": "python",
   "name": "python3"
  },
  "language_info": {
   "codemirror_mode": {
    "name": "ipython",
    "version": 3
   },
   "file_extension": ".py",
   "mimetype": "text/x-python",
   "name": "python",
   "nbconvert_exporter": "python",
   "pygments_lexer": "ipython3",
   "version": "3.9.13"
  }
 },
 "nbformat": 4,
 "nbformat_minor": 5
}
