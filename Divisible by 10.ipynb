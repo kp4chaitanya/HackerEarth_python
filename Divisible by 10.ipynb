{
 "cells": [
  {
   "cell_type": "markdown",
   "id": "100327d8",
   "metadata": {},
   "source": [
    "### Alternate solution with change in scanning List items"
   ]
  },
  {
   "cell_type": "code",
   "execution_count": 7,
   "id": "7d54acbb",
   "metadata": {},
   "outputs": [
    {
     "name": "stdout",
     "output_type": "stream",
     "text": [
      "5\n",
      "21 51 65 28 50\n",
      "Yes\n"
     ]
    }
   ],
   "source": [
    "#length of the list-runtime input\n",
    "N=int(input()) \n",
    "\n",
    "#Elements of the list-enter at the runtime\n",
    "A= [int(x) for x in input().split()]     \n",
    "\n",
    "#function to determine whether the number formed by the last digits of the elements is divisible by 10 or not\n",
    "def divisible(A):\n",
    "    last_ele=A[-1]\n",
    "    last_ele_str=str(last_ele)\n",
    "    ele=last_ele_str[-1]\n",
    "    res=int(ele)\n",
    "    \n",
    "    if res==0:\n",
    "        print(\"Yes\")\n",
    "    else:\n",
    "        print(\"No\")\n",
    "\n",
    "#function call\n",
    "divisible(A)"
   ]
  }
 ],
 "metadata": {
  "kernelspec": {
   "display_name": "Python 3 (ipykernel)",
   "language": "python",
   "name": "python3"
  },
  "language_info": {
   "codemirror_mode": {
    "name": "ipython",
    "version": 3
   },
   "file_extension": ".py",
   "mimetype": "text/x-python",
   "name": "python",
   "nbconvert_exporter": "python",
   "pygments_lexer": "ipython3",
   "version": "3.9.13"
  }
 },
 "nbformat": 4,
 "nbformat_minor": 5
}
