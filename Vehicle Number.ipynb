{
 "cells": [
  {
   "cell_type": "code",
   "execution_count": 1,
   "id": "c4b8c8b7",
   "metadata": {},
   "outputs": [],
   "source": [
    "#format of the vehicle plate: DDXDDD-DD, where D is a digit and X is alphabet\n",
    "#We consider the letters \"A\",\"E\",\"I\",\"O\",\"U\",\"Y\" to be vowels for this problem.\n",
    "#He knows that a tag is valid if the sum of every two consecutive digits of it is even \n",
    "#and its letter is not a vowel. Determine if the tag of the truck is valid or not."
   ]
  },
  {
   "cell_type": "code",
   "execution_count": 2,
   "id": "fe8193f6",
   "metadata": {},
   "outputs": [],
   "source": [
    "S='22B684-73'"
   ]
  },
  {
   "cell_type": "code",
   "execution_count": 3,
   "id": "b9e74c75",
   "metadata": {},
   "outputs": [],
   "source": [
    "l1=list(S)"
   ]
  },
  {
   "cell_type": "code",
   "execution_count": 4,
   "id": "7b234855",
   "metadata": {},
   "outputs": [
    {
     "data": {
      "text/plain": [
       "['2', '2', 'B', '6', '8', '4', '-', '7', '3']"
      ]
     },
     "execution_count": 4,
     "metadata": {},
     "output_type": "execute_result"
    }
   ],
   "source": [
    "l1"
   ]
  },
  {
   "cell_type": "code",
   "execution_count": 5,
   "id": "7f57510a",
   "metadata": {},
   "outputs": [
    {
     "data": {
      "text/plain": [
       "str"
      ]
     },
     "execution_count": 5,
     "metadata": {},
     "output_type": "execute_result"
    }
   ],
   "source": [
    "type(l1[0])"
   ]
  },
  {
   "cell_type": "code",
   "execution_count": 6,
   "id": "2a4735b5",
   "metadata": {},
   "outputs": [],
   "source": [
    "cond1=l1[-3]==\"-\""
   ]
  },
  {
   "cell_type": "code",
   "execution_count": 7,
   "id": "9d856815",
   "metadata": {},
   "outputs": [
    {
     "data": {
      "text/plain": [
       "True"
      ]
     },
     "execution_count": 7,
     "metadata": {},
     "output_type": "execute_result"
    }
   ],
   "source": [
    "cond1"
   ]
  },
  {
   "cell_type": "code",
   "execution_count": 8,
   "id": "7efb1ac5",
   "metadata": {},
   "outputs": [],
   "source": [
    "vowels=(\"A\",\"E\",\"I\",\"O\",\"U\",\"Y\")"
   ]
  },
  {
   "cell_type": "code",
   "execution_count": 9,
   "id": "27b83f80",
   "metadata": {},
   "outputs": [],
   "source": [
    "if (l1[2].endswith(vowels)):\n",
    "    cond2=False #contains vowel\n",
    "else:\n",
    "    cond2=True #does not contain vowel"
   ]
  },
  {
   "cell_type": "code",
   "execution_count": 10,
   "id": "19300b17",
   "metadata": {},
   "outputs": [
    {
     "data": {
      "text/plain": [
       "True"
      ]
     },
     "execution_count": 10,
     "metadata": {},
     "output_type": "execute_result"
    }
   ],
   "source": [
    "cond2"
   ]
  },
  {
   "cell_type": "code",
   "execution_count": 11,
   "id": "dbfc7802",
   "metadata": {},
   "outputs": [],
   "source": [
    "indexes=[0,1,3,4,5,7,8]"
   ]
  },
  {
   "cell_type": "code",
   "execution_count": 12,
   "id": "e0bcddad",
   "metadata": {},
   "outputs": [
    {
     "name": "stdout",
     "output_type": "stream",
     "text": [
      "<class 'int'>\n",
      "<class 'int'>\n",
      "<class 'int'>\n",
      "<class 'int'>\n",
      "<class 'int'>\n",
      "<class 'int'>\n",
      "<class 'int'>\n"
     ]
    }
   ],
   "source": [
    "for i in indexes:\n",
    "    l1[i]=int(l1[i])\n",
    "    print(type(l1[i]))"
   ]
  },
  {
   "cell_type": "code",
   "execution_count": 13,
   "id": "883cf401",
   "metadata": {},
   "outputs": [],
   "source": [
    "a=l1[0]+l1[1]\n",
    "b=l1[3]+l1[4]\n",
    "c=l1[4]+l1[5]\n",
    "d=l1[-2]+l1[-1]"
   ]
  },
  {
   "cell_type": "code",
   "execution_count": 14,
   "id": "94b9442d",
   "metadata": {},
   "outputs": [],
   "source": [
    "l2=[a,b,c,d]"
   ]
  },
  {
   "cell_type": "code",
   "execution_count": 15,
   "id": "461c9b66",
   "metadata": {},
   "outputs": [
    {
     "data": {
      "text/plain": [
       "[4, 14, 12, 10]"
      ]
     },
     "execution_count": 15,
     "metadata": {},
     "output_type": "execute_result"
    }
   ],
   "source": [
    "l2"
   ]
  },
  {
   "cell_type": "code",
   "execution_count": 16,
   "id": "e29f5d46",
   "metadata": {},
   "outputs": [],
   "source": [
    "#test_list = [int(float(i)) for i in l2]"
   ]
  },
  {
   "cell_type": "code",
   "execution_count": 17,
   "id": "31292297",
   "metadata": {},
   "outputs": [],
   "source": [
    "#test_list = list(map(int, l2))"
   ]
  },
  {
   "cell_type": "code",
   "execution_count": 18,
   "id": "0f8ff5fc",
   "metadata": {},
   "outputs": [],
   "source": [
    "def evenDigit(mylist):\n",
    "    #mylist=[a,b,c,d]\n",
    "    \n",
    "    count=0\n",
    "    for item in mylist:\n",
    "        if (item%2==0):\n",
    "            count=count+1\n",
    "            \n",
    "    if(count==4):\n",
    "        cond3=True\n",
    "    else:\n",
    "        cond3=False\n",
    "    return cond3"
   ]
  },
  {
   "cell_type": "code",
   "execution_count": 19,
   "id": "a34421cc",
   "metadata": {},
   "outputs": [],
   "source": [
    "cond3=evenDigit(l2)"
   ]
  },
  {
   "cell_type": "code",
   "execution_count": 20,
   "id": "0c85130d",
   "metadata": {},
   "outputs": [
    {
     "data": {
      "text/plain": [
       "True"
      ]
     },
     "execution_count": 20,
     "metadata": {},
     "output_type": "execute_result"
    }
   ],
   "source": [
    "cond3"
   ]
  },
  {
   "cell_type": "code",
   "execution_count": 21,
   "id": "dc83b195",
   "metadata": {},
   "outputs": [
    {
     "name": "stdout",
     "output_type": "stream",
     "text": [
      "valid vehicle\n"
     ]
    }
   ],
   "source": [
    "if(cond1 and cond2 and cond3):\n",
    "    print(\"valid vehicle\")\n",
    "else:\n",
    "    print(\"Invalid\")"
   ]
  }
 ],
 "metadata": {
  "kernelspec": {
   "display_name": "Python 3 (ipykernel)",
   "language": "python",
   "name": "python3"
  },
  "language_info": {
   "codemirror_mode": {
    "name": "ipython",
    "version": 3
   },
   "file_extension": ".py",
   "mimetype": "text/x-python",
   "name": "python",
   "nbconvert_exporter": "python",
   "pygments_lexer": "ipython3",
   "version": "3.9.13"
  }
 },
 "nbformat": 4,
 "nbformat_minor": 5
}
